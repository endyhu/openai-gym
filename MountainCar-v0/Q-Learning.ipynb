{
 "cells": [
  {
   "cell_type": "code",
   "execution_count": 1,
   "metadata": {},
   "outputs": [],
   "source": [
    "import gym\n",
    "import numpy as np\n",
    "\n",
    "from IPython.display import clear_output"
   ]
  },
  {
   "cell_type": "code",
   "execution_count": 2,
   "metadata": {},
   "outputs": [],
   "source": [
    "env = gym.make(\"MountainCar-v0\")"
   ]
  },
  {
   "cell_type": "code",
   "execution_count": 3,
   "metadata": {},
   "outputs": [
    {
     "name": "stdout",
     "output_type": "stream",
     "text": [
      "Observation Space Low : [-1.2  -0.07]\n",
      "Observation Space High: [0.6  0.07]\n",
      "\n",
      "Action Space: Discrete(3)\n"
     ]
    }
   ],
   "source": [
    "print(f\"Observation Space Low : {env.observation_space.low}\")\n",
    "print(f\"Observation Space High: {env.observation_space.high}\")\n",
    "\n",
    "print(f\"\\nAction Space: {env.action_space}\")"
   ]
  },
  {
   "cell_type": "code",
   "execution_count": 4,
   "metadata": {},
   "outputs": [
    {
     "name": "stdout",
     "output_type": "stream",
     "text": [
      "Discrete OS Window Size: [0.1  0.01]\n"
     ]
    }
   ],
   "source": [
    "discrete_os_shape = [18, 14]\n",
    "discrete_os_win_size = abs(env.observation_space.high - env.observation_space.low) / discrete_os_shape\n",
    "\n",
    "print(f\"Discrete OS Window Size: {discrete_os_win_size}\")"
   ]
  },
  {
   "cell_type": "code",
   "execution_count": 5,
   "metadata": {},
   "outputs": [],
   "source": [
    "def getDiscreteState(state):\n",
    "    discrete_state = (state - env.observation_space.low) / discrete_os_win_size\n",
    "    \n",
    "    return tuple(discrete_state.astype(int))"
   ]
  },
  {
   "cell_type": "code",
   "execution_count": 6,
   "metadata": {},
   "outputs": [],
   "source": [
    "def getEpsilonGreedyPolicy(Q, epsilon, nA):\n",
    "    def policy(state):\n",
    "        A = np.ones(nA) * (epsilon / nA)\n",
    "        best_action = np.argmax(Q[state])\n",
    "        A[best_action] = A[best_action] + (1 - epsilon)\n",
    "        \n",
    "        return A\n",
    "    return policy"
   ]
  },
  {
   "cell_type": "code",
   "execution_count": 7,
   "metadata": {},
   "outputs": [],
   "source": [
    "def QLearning(env, num_episodes, discount=1.0, alpha=0.1, epsilon=0.1):\n",
    "    Q = np.zeros(discrete_os_shape + [env.action_space.n])\n",
    "    policy = getEpsilonGreedyPolicy(Q, epsilon, env.action_space.n)\n",
    "    \n",
    "    episode_rewards = np.zeros(num_episodes)\n",
    "    episode_finished = []\n",
    "    \n",
    "    for i_episode in range(num_episodes):\n",
    "        state = env.reset()\n",
    "        discrete_state = getDiscreteState(state)\n",
    "        \n",
    "        for t in range(200):\n",
    "#             if (i_episode + 1) % 5000 == 0:\n",
    "#                 env.render()\n",
    "            \n",
    "            action_prob = policy(discrete_state)\n",
    "            action_pos = [i for i in range(env.action_space.n)]\n",
    "            action = np.random.choice(action_pos, p=action_prob)\n",
    "            \n",
    "            next_state, reward, done, _ = env.step(action)\n",
    "            discrete_next_state = getDiscreteState(next_state)\n",
    "            \n",
    "            episode_rewards[i_episode] = episode_rewards[i_episode] + reward\n",
    "            \n",
    "            best_next_action = np.argmax(Q[discrete_next_state])\n",
    "            \n",
    "            td_target = reward + discount * Q[discrete_next_state][best_next_action]\n",
    "            td_delta = td_target - Q[discrete_state][action]\n",
    "            Q[discrete_state][action] = Q[discrete_state][action] + alpha * td_delta\n",
    "            \n",
    "            if done:\n",
    "                if episode_rewards[i_episode] > -200:\n",
    "                    episode_finished.append([i_episode, episode_rewards[i_episode]])\n",
    "                break\n",
    "                \n",
    "            discrete_state = discrete_next_state\n",
    "        \n",
    "        clear_output(True)\n",
    "        print(f\"[{i_episode + 1:>5}/{num_episodes:>5}] Episode Total Reward: {episode_rewards[i_episode]}\")\n",
    "            \n",
    "    env.close()\n",
    "    \n",
    "    return Q, episode_finished"
   ]
  },
  {
   "cell_type": "code",
   "execution_count": 8,
   "metadata": {},
   "outputs": [
    {
     "name": "stdout",
     "output_type": "stream",
     "text": [
      "[10000/10000] Episode Total Reward: -112.0\n"
     ]
    }
   ],
   "source": [
    "Q, episode_finished = QLearning(env, 10000, alpha=0.05, epsilon=0.0005)"
   ]
  },
  {
   "cell_type": "code",
   "execution_count": 9,
   "metadata": {},
   "outputs": [
    {
     "name": "stdout",
     "output_type": "stream",
     "text": [
      "Episodes Finished:\n",
      "[ 9996] Total Reward: -110.0\n",
      "[ 9997] Total Reward: -161.0\n",
      "[ 9998] Total Reward: -160.0\n",
      "[ 9999] Total Reward: -112.0\n",
      "[10000] Total Reward: -112.0\n"
     ]
    }
   ],
   "source": [
    "print(\"Episodes Finished:\")\n",
    "for episode in episode_finished[-5:]:\n",
    "    print(f\"[{episode[0] + 1:>5}] Total Reward: {episode[1]}\")"
   ]
  },
  {
   "cell_type": "code",
   "execution_count": 10,
   "metadata": {},
   "outputs": [],
   "source": [
    "def playEnvOnce(env, Q):\n",
    "    state = env.reset()\n",
    "    discrete_state = getDiscreteState(state)\n",
    "    \n",
    "    for t in range(200):\n",
    "        env.render()\n",
    "        \n",
    "        action = np.argmax(Q[discrete_state])\n",
    "        \n",
    "        next_state, reward, done, _ = env.step(action)\n",
    "        discrete_next_state = getDiscreteState(next_state)\n",
    "        \n",
    "        if done:\n",
    "            break\n",
    "            \n",
    "        discrete_state = discrete_next_state\n",
    "        \n",
    "    env.close()"
   ]
  },
  {
   "cell_type": "code",
   "execution_count": 11,
   "metadata": {},
   "outputs": [],
   "source": [
    "playEnvOnce(env, Q)"
   ]
  },
  {
   "cell_type": "code",
   "execution_count": null,
   "metadata": {},
   "outputs": [],
   "source": []
  }
 ],
 "metadata": {
  "kernelspec": {
   "display_name": "Python 3",
   "language": "python",
   "name": "python3"
  },
  "language_info": {
   "codemirror_mode": {
    "name": "ipython",
    "version": 3
   },
   "file_extension": ".py",
   "mimetype": "text/x-python",
   "name": "python",
   "nbconvert_exporter": "python",
   "pygments_lexer": "ipython3",
   "version": "3.7.3"
  }
 },
 "nbformat": 4,
 "nbformat_minor": 2
}
